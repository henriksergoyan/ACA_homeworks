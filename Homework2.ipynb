{
 "cells": [
  {
   "cell_type": "code",
   "execution_count": 2,
   "metadata": {},
   "outputs": [],
   "source": [
    "import pandas as pd"
   ]
  },
  {
   "cell_type": "code",
   "execution_count": 83,
   "metadata": {},
   "outputs": [],
   "source": [
    "earthquakes = pd.read_csv(\"database.csv\")"
   ]
  },
  {
   "cell_type": "code",
   "execution_count": 84,
   "metadata": {},
   "outputs": [
    {
     "name": "stdout",
     "output_type": "stream",
     "text": [
      "<class 'pandas.core.frame.DataFrame'>\n",
      "RangeIndex: 23412 entries, 0 to 23411\n",
      "Data columns (total 21 columns):\n",
      "Date                          23412 non-null object\n",
      "Time                          23412 non-null object\n",
      "Latitude                      23412 non-null float64\n",
      "Longitude                     23412 non-null float64\n",
      "Type                          23412 non-null object\n",
      "Depth                         23412 non-null float64\n",
      "Depth Error                   4461 non-null float64\n",
      "Depth Seismic Stations        7097 non-null float64\n",
      "Magnitude                     23412 non-null float64\n",
      "Magnitude Type                23409 non-null object\n",
      "Magnitude Error               327 non-null float64\n",
      "Magnitude Seismic Stations    2564 non-null float64\n",
      "Azimuthal Gap                 7299 non-null float64\n",
      "Horizontal Distance           1604 non-null float64\n",
      "Horizontal Error              1156 non-null float64\n",
      "Root Mean Square              17352 non-null float64\n",
      "ID                            23412 non-null object\n",
      "Source                        23412 non-null object\n",
      "Location Source               23412 non-null object\n",
      "Magnitude Source              23412 non-null object\n",
      "Status                        23412 non-null object\n",
      "dtypes: float64(12), object(9)\n",
      "memory usage: 3.8+ MB\n"
     ]
    }
   ],
   "source": [
    "earthquakes.info()"
   ]
  },
  {
   "cell_type": "markdown",
   "metadata": {},
   "source": [
    "### Droping columns which have many missing values"
   ]
  },
  {
   "cell_type": "code",
   "execution_count": 85,
   "metadata": {},
   "outputs": [],
   "source": [
    "dt = earthquakes.drop(['Depth Error','Depth Seismic Stations','Depth Seismic Stations','Magnitude Error',\n",
    "                  'Magnitude Seismic Stations','Horizontal Distance','Horizontal Error','Azimuthal Gap','Date',\n",
    "                      'Time'],axis=1)"
   ]
  },
  {
   "cell_type": "code",
   "execution_count": 86,
   "metadata": {},
   "outputs": [
    {
     "data": {
      "text/plain": [
       "(23412, 12)"
      ]
     },
     "execution_count": 86,
     "metadata": {},
     "output_type": "execute_result"
    }
   ],
   "source": [
    "dt.shape"
   ]
  },
  {
   "cell_type": "code",
   "execution_count": 87,
   "metadata": {},
   "outputs": [
    {
     "data": {
      "text/html": [
       "<div>\n",
       "<style scoped>\n",
       "    .dataframe tbody tr th:only-of-type {\n",
       "        vertical-align: middle;\n",
       "    }\n",
       "\n",
       "    .dataframe tbody tr th {\n",
       "        vertical-align: top;\n",
       "    }\n",
       "\n",
       "    .dataframe thead th {\n",
       "        text-align: right;\n",
       "    }\n",
       "</style>\n",
       "<table border=\"1\" class=\"dataframe\">\n",
       "  <thead>\n",
       "    <tr style=\"text-align: right;\">\n",
       "      <th></th>\n",
       "      <th>Latitude</th>\n",
       "      <th>Longitude</th>\n",
       "      <th>Depth</th>\n",
       "      <th>Magnitude</th>\n",
       "      <th>Root Mean Square</th>\n",
       "    </tr>\n",
       "  </thead>\n",
       "  <tbody>\n",
       "    <tr>\n",
       "      <th>Latitude</th>\n",
       "      <td>1.000000</td>\n",
       "      <td>0.203546</td>\n",
       "      <td>-0.081020</td>\n",
       "      <td>0.034987</td>\n",
       "      <td>-0.214762</td>\n",
       "    </tr>\n",
       "    <tr>\n",
       "      <th>Longitude</th>\n",
       "      <td>0.203546</td>\n",
       "      <td>1.000000</td>\n",
       "      <td>-0.085861</td>\n",
       "      <td>0.038579</td>\n",
       "      <td>-0.028061</td>\n",
       "    </tr>\n",
       "    <tr>\n",
       "      <th>Depth</th>\n",
       "      <td>-0.081020</td>\n",
       "      <td>-0.085861</td>\n",
       "      <td>1.000000</td>\n",
       "      <td>0.023457</td>\n",
       "      <td>-0.134002</td>\n",
       "    </tr>\n",
       "    <tr>\n",
       "      <th>Magnitude</th>\n",
       "      <td>0.034987</td>\n",
       "      <td>0.038579</td>\n",
       "      <td>0.023457</td>\n",
       "      <td>1.000000</td>\n",
       "      <td>0.075865</td>\n",
       "    </tr>\n",
       "    <tr>\n",
       "      <th>Root Mean Square</th>\n",
       "      <td>-0.214762</td>\n",
       "      <td>-0.028061</td>\n",
       "      <td>-0.134002</td>\n",
       "      <td>0.075865</td>\n",
       "      <td>1.000000</td>\n",
       "    </tr>\n",
       "  </tbody>\n",
       "</table>\n",
       "</div>"
      ],
      "text/plain": [
       "                  Latitude  Longitude     Depth  Magnitude  Root Mean Square\n",
       "Latitude          1.000000   0.203546 -0.081020   0.034987         -0.214762\n",
       "Longitude         0.203546   1.000000 -0.085861   0.038579         -0.028061\n",
       "Depth            -0.081020  -0.085861  1.000000   0.023457         -0.134002\n",
       "Magnitude         0.034987   0.038579  0.023457   1.000000          0.075865\n",
       "Root Mean Square -0.214762  -0.028061 -0.134002   0.075865          1.000000"
      ]
     },
     "execution_count": 87,
     "metadata": {},
     "output_type": "execute_result"
    }
   ],
   "source": [
    "dt.corr()"
   ]
  },
  {
   "cell_type": "code",
   "execution_count": 88,
   "metadata": {},
   "outputs": [
    {
     "name": "stdout",
     "output_type": "stream",
     "text": [
      "<class 'pandas.core.frame.DataFrame'>\n",
      "RangeIndex: 23412 entries, 0 to 23411\n",
      "Data columns (total 12 columns):\n",
      "Latitude            23412 non-null float64\n",
      "Longitude           23412 non-null float64\n",
      "Type                23412 non-null object\n",
      "Depth               23412 non-null float64\n",
      "Magnitude           23412 non-null float64\n",
      "Magnitude Type      23409 non-null object\n",
      "Root Mean Square    17352 non-null float64\n",
      "ID                  23412 non-null object\n",
      "Source              23412 non-null object\n",
      "Location Source     23412 non-null object\n",
      "Magnitude Source    23412 non-null object\n",
      "Status              23412 non-null object\n",
      "dtypes: float64(5), object(7)\n",
      "memory usage: 2.1+ MB\n"
     ]
    }
   ],
   "source": [
    "dt.info()"
   ]
  },
  {
   "cell_type": "markdown",
   "metadata": {},
   "source": [
    "### Converting my categorical variables to numerical"
   ]
  },
  {
   "cell_type": "code",
   "execution_count": 98,
   "metadata": {},
   "outputs": [],
   "source": [
    "df = pd.concat([\n",
    "        dt.select_dtypes([], ['object']),\n",
    "        dt.select_dtypes(['object']).apply(pd.Series.astype, dtype='category')\n",
    "        ], axis=1).reindex(dt.columns, axis=1)\n"
   ]
  },
  {
   "cell_type": "code",
   "execution_count": 99,
   "metadata": {},
   "outputs": [],
   "source": [
    "cat_columns = df.select_dtypes(['category']).columns"
   ]
  },
  {
   "cell_type": "code",
   "execution_count": 100,
   "metadata": {},
   "outputs": [],
   "source": [
    "df[cat_columns] = df[cat_columns].apply(lambda x: x.cat.codes)"
   ]
  },
  {
   "cell_type": "code",
   "execution_count": 101,
   "metadata": {},
   "outputs": [],
   "source": [
    "target = df[['Magnitude']].copy()\n",
    "X = df.drop('Magnitude',axis=1)"
   ]
  },
  {
   "cell_type": "code",
   "execution_count": 102,
   "metadata": {},
   "outputs": [
    {
     "data": {
      "text/html": [
       "<div>\n",
       "<style scoped>\n",
       "    .dataframe tbody tr th:only-of-type {\n",
       "        vertical-align: middle;\n",
       "    }\n",
       "\n",
       "    .dataframe tbody tr th {\n",
       "        vertical-align: top;\n",
       "    }\n",
       "\n",
       "    .dataframe thead th {\n",
       "        text-align: right;\n",
       "    }\n",
       "</style>\n",
       "<table border=\"1\" class=\"dataframe\">\n",
       "  <thead>\n",
       "    <tr style=\"text-align: right;\">\n",
       "      <th></th>\n",
       "      <th>Latitude</th>\n",
       "      <th>Longitude</th>\n",
       "      <th>Type</th>\n",
       "      <th>Depth</th>\n",
       "      <th>Magnitude Type</th>\n",
       "      <th>Root Mean Square</th>\n",
       "      <th>Source</th>\n",
       "      <th>Location Source</th>\n",
       "      <th>Magnitude Source</th>\n",
       "      <th>Status</th>\n",
       "    </tr>\n",
       "  </thead>\n",
       "  <tbody>\n",
       "    <tr>\n",
       "      <th>0</th>\n",
       "      <td>19.246</td>\n",
       "      <td>145.616</td>\n",
       "      <td>0</td>\n",
       "      <td>131.6</td>\n",
       "      <td>5</td>\n",
       "      <td>NaN</td>\n",
       "      <td>4</td>\n",
       "      <td>20</td>\n",
       "      <td>11</td>\n",
       "      <td>0</td>\n",
       "    </tr>\n",
       "    <tr>\n",
       "      <th>1</th>\n",
       "      <td>1.863</td>\n",
       "      <td>127.352</td>\n",
       "      <td>0</td>\n",
       "      <td>80.0</td>\n",
       "      <td>5</td>\n",
       "      <td>NaN</td>\n",
       "      <td>4</td>\n",
       "      <td>20</td>\n",
       "      <td>11</td>\n",
       "      <td>0</td>\n",
       "    </tr>\n",
       "    <tr>\n",
       "      <th>2</th>\n",
       "      <td>-20.579</td>\n",
       "      <td>-173.972</td>\n",
       "      <td>0</td>\n",
       "      <td>20.0</td>\n",
       "      <td>5</td>\n",
       "      <td>NaN</td>\n",
       "      <td>4</td>\n",
       "      <td>20</td>\n",
       "      <td>11</td>\n",
       "      <td>0</td>\n",
       "    </tr>\n",
       "    <tr>\n",
       "      <th>3</th>\n",
       "      <td>-59.076</td>\n",
       "      <td>-23.557</td>\n",
       "      <td>0</td>\n",
       "      <td>15.0</td>\n",
       "      <td>5</td>\n",
       "      <td>NaN</td>\n",
       "      <td>4</td>\n",
       "      <td>20</td>\n",
       "      <td>11</td>\n",
       "      <td>0</td>\n",
       "    </tr>\n",
       "    <tr>\n",
       "      <th>4</th>\n",
       "      <td>11.938</td>\n",
       "      <td>126.427</td>\n",
       "      <td>0</td>\n",
       "      <td>15.0</td>\n",
       "      <td>5</td>\n",
       "      <td>NaN</td>\n",
       "      <td>4</td>\n",
       "      <td>20</td>\n",
       "      <td>11</td>\n",
       "      <td>0</td>\n",
       "    </tr>\n",
       "  </tbody>\n",
       "</table>\n",
       "</div>"
      ],
      "text/plain": [
       "   Latitude  Longitude  Type  Depth  Magnitude Type  Root Mean Square  Source  \\\n",
       "0    19.246    145.616     0  131.6               5               NaN       4   \n",
       "1     1.863    127.352     0   80.0               5               NaN       4   \n",
       "2   -20.579   -173.972     0   20.0               5               NaN       4   \n",
       "3   -59.076    -23.557     0   15.0               5               NaN       4   \n",
       "4    11.938    126.427     0   15.0               5               NaN       4   \n",
       "\n",
       "   Location Source  Magnitude Source  Status  \n",
       "0               20                11       0  \n",
       "1               20                11       0  \n",
       "2               20                11       0  \n",
       "3               20                11       0  \n",
       "4               20                11       0  "
      ]
     },
     "execution_count": 102,
     "metadata": {},
     "output_type": "execute_result"
    }
   ],
   "source": [
    "X.head()"
   ]
  },
  {
   "cell_type": "code",
   "execution_count": 111,
   "metadata": {},
   "outputs": [],
   "source": [
    "X[['Root Mean Square']] = X[['Root Mean Square']].fillna(X[['Root Mean Square']].mean())"
   ]
  },
  {
   "cell_type": "code",
   "execution_count": 112,
   "metadata": {},
   "outputs": [],
   "source": [
    "from sklearn.model_selection import train_test_split"
   ]
  },
  {
   "cell_type": "code",
   "execution_count": 113,
   "metadata": {},
   "outputs": [],
   "source": [
    "X_train, X_test, y_train, y_test = train_test_split(X, target, test_size=0.33, random_state=42)"
   ]
  },
  {
   "cell_type": "code",
   "execution_count": 114,
   "metadata": {},
   "outputs": [],
   "source": [
    "from sklearn.tree import DecisionTreeRegressor"
   ]
  },
  {
   "cell_type": "code",
   "execution_count": 130,
   "metadata": {},
   "outputs": [],
   "source": [
    "tree = DecisionTreeRegressor(max_depth=5)"
   ]
  },
  {
   "cell_type": "code",
   "execution_count": 131,
   "metadata": {},
   "outputs": [
    {
     "data": {
      "text/plain": [
       "DecisionTreeRegressor(criterion='mse', max_depth=5, max_features=None,\n",
       "           max_leaf_nodes=None, min_impurity_decrease=0.0,\n",
       "           min_impurity_split=None, min_samples_leaf=1,\n",
       "           min_samples_split=2, min_weight_fraction_leaf=0.0,\n",
       "           presort=False, random_state=None, splitter='best')"
      ]
     },
     "execution_count": 131,
     "metadata": {},
     "output_type": "execute_result"
    }
   ],
   "source": [
    "tree.fit(X_train,y_train)"
   ]
  },
  {
   "cell_type": "code",
   "execution_count": 132,
   "metadata": {},
   "outputs": [],
   "source": [
    "y_pred = tree.predict(X_test)"
   ]
  },
  {
   "cell_type": "code",
   "execution_count": 133,
   "metadata": {},
   "outputs": [
    {
     "name": "stdout",
     "output_type": "stream",
     "text": [
      "0.11240932370398603\n",
      "0.10531808224689088\n"
     ]
    }
   ],
   "source": [
    "from sklearn.metrics import r2_score\n",
    "print(tree.score(X_train,y_train))\n",
    "print(tree.score(X_test, y_test))"
   ]
  },
  {
   "cell_type": "code",
   "execution_count": null,
   "metadata": {},
   "outputs": [],
   "source": []
  }
 ],
 "metadata": {
  "kernelspec": {
   "display_name": "Python 3",
   "language": "python",
   "name": "python3"
  },
  "language_info": {
   "codemirror_mode": {
    "name": "ipython",
    "version": 3
   },
   "file_extension": ".py",
   "mimetype": "text/x-python",
   "name": "python",
   "nbconvert_exporter": "python",
   "pygments_lexer": "ipython3",
   "version": "3.5.2"
  }
 },
 "nbformat": 4,
 "nbformat_minor": 2
}
