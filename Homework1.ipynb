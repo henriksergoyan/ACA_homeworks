{
 "cells": [
  {
   "cell_type": "markdown",
   "metadata": {},
   "source": [
    "### 1.Factorial with inner cache"
   ]
  },
  {
   "cell_type": "code",
   "execution_count": 1,
   "metadata": {},
   "outputs": [],
   "source": [
    "def factorial(n): \n",
    "    if  not hasattr(factorial, 'cache'):\n",
    "        factorial.__setattr__('cache',dict())\n",
    "        factorial(n)\n",
    "    else:\n",
    "        if n in factorial.cache:\n",
    "            return factorial.cache[n]\n",
    "        elif n==0:\n",
    "            return 1\n",
    "        else:\n",
    "            result = factorial(n-1) * n\n",
    "            factorial.cache[n] = result\n",
    "            return result\n",
    "    "
   ]
  },
  {
   "cell_type": "markdown",
   "metadata": {},
   "source": [
    "## 2.Dictionary with class' methods"
   ]
  },
  {
   "cell_type": "code",
   "execution_count": 2,
   "metadata": {},
   "outputs": [],
   "source": [
    "class X:\n",
    "    def foo(self):\n",
    "        return 5\n",
    "    def bar(self):\n",
    "        return 10"
   ]
  },
  {
   "cell_type": "code",
   "execution_count": 3,
   "metadata": {},
   "outputs": [],
   "source": [
    "obj = X()"
   ]
  },
  {
   "cell_type": "code",
   "execution_count": 4,
   "metadata": {},
   "outputs": [
    {
     "data": {
      "text/plain": [
       "10"
      ]
     },
     "execution_count": 4,
     "metadata": {},
     "output_type": "execute_result"
    }
   ],
   "source": [
    "obj.bar()"
   ]
  },
  {
   "cell_type": "code",
   "execution_count": 5,
   "metadata": {},
   "outputs": [],
   "source": [
    "import inspect\n"
   ]
  },
  {
   "cell_type": "code",
   "execution_count": 6,
   "metadata": {},
   "outputs": [
    {
     "data": {
      "text/plain": [
       "['__le__',\n",
       " '__subclasshook__',\n",
       " '__class__',\n",
       " '__lt__',\n",
       " '__dir__',\n",
       " '__new__',\n",
       " '__eq__',\n",
       " 'bar',\n",
       " '__ge__',\n",
       " '__sizeof__',\n",
       " '__hash__',\n",
       " '__init__',\n",
       " '__module__',\n",
       " '__str__',\n",
       " '__format__',\n",
       " '__repr__',\n",
       " '__dict__',\n",
       " 'foo',\n",
       " '__gt__',\n",
       " '__ne__',\n",
       " '__doc__',\n",
       " '__delattr__',\n",
       " '__reduce_ex__',\n",
       " '__weakref__',\n",
       " '__getattribute__',\n",
       " '__reduce__',\n",
       " '__setattr__']"
      ]
     },
     "execution_count": 6,
     "metadata": {},
     "output_type": "execute_result"
    }
   ],
   "source": [
    "obj.__dir__()"
   ]
  },
  {
   "cell_type": "code",
   "execution_count": 7,
   "metadata": {},
   "outputs": [
    {
     "data": {
      "text/plain": [
       "10"
      ]
     },
     "execution_count": 7,
     "metadata": {},
     "output_type": "execute_result"
    }
   ],
   "source": [
    "obj.__getattribute__(\"bar\")()"
   ]
  },
  {
   "cell_type": "code",
   "execution_count": 8,
   "metadata": {},
   "outputs": [],
   "source": [
    "def g(X):\n",
    "    d = {}\n",
    "    lst = inspect.getmembers(X, predicate=inspect.ismethod)\n",
    "    for name,_ in lst:\n",
    "        d[name]=X.__getattribute__(name)()\n",
    "    return d\n",
    "    "
   ]
  },
  {
   "cell_type": "code",
   "execution_count": 9,
   "metadata": {},
   "outputs": [
    {
     "data": {
      "text/plain": [
       "{'bar': 10, 'foo': 5}"
      ]
     },
     "execution_count": 9,
     "metadata": {},
     "output_type": "execute_result"
    }
   ],
   "source": [
    "g(obj)"
   ]
  },
  {
   "cell_type": "markdown",
   "metadata": {},
   "source": [
    "### 3. Matrix rotation"
   ]
  },
  {
   "cell_type": "code",
   "execution_count": null,
   "metadata": {},
   "outputs": [],
   "source": [
    "class rotation:\n",
    "    def rotate(self,degree):\n",
    "        numer_of_rotations= (degree%360)/90\n",
    "        "
   ]
  }
 ],
 "metadata": {
  "kernelspec": {
   "display_name": "Python 3",
   "language": "python",
   "name": "python3"
  },
  "language_info": {
   "codemirror_mode": {
    "name": "ipython",
    "version": 3
   },
   "file_extension": ".py",
   "mimetype": "text/x-python",
   "name": "python",
   "nbconvert_exporter": "python",
   "pygments_lexer": "ipython3",
   "version": "3.5.2"
  }
 },
 "nbformat": 4,
 "nbformat_minor": 2
}
